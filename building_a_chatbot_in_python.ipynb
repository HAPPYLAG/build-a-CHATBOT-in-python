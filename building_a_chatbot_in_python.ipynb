{
  "nbformat": 4,
  "nbformat_minor": 0,
  "metadata": {
    "colab": {
      "name": "building a chatbot in python",
      "provenance": [],
      "collapsed_sections": []
    },
    "kernelspec": {
      "name": "python3",
      "display_name": "Python 3"
    },
    "language_info": {
      "name": "python"
    }
  },
  "cells": [
    {
      "cell_type": "code",
      "execution_count": 52,
      "metadata": {
        "id": "H5VV_hwReqAl"
      },
      "outputs": [],
      "source": [
        "import numpy as np\n",
        "import nltk\n",
        "import string\n",
        "import random"
      ]
    },
    {
      "cell_type": "markdown",
      "source": [
        "importing and reading the corpus"
      ],
      "metadata": {
        "id": "2dnEfyFofOpm"
      }
    },
    {
      "cell_type": "code",
      "source": [
        "from nltk.tokenize.destructive import NLTKWordTokenizer\n",
        "from io import RawIOBase\n",
        "f=open('chatbot.txt','r',errors='ignore')\n",
        "raw_doc=f.read()\n",
        "raw_doc=raw_doc.lower()#Converts text to lowercase\n",
        "nltk.download('punkt')#using the punkt tokenize\n",
        "nltk.download('wordnet')#using the wordnet dictionary\n",
        "nltk.download('stopwords')\n",
        "sent_tokens = nltk.sent_tokenize(raw_doc)#convert doc to list sentence\n",
        "word_tokens = nltk.word_tokenize(raw_doc)#coverts doc to list words"
      ],
      "metadata": {
        "colab": {
          "base_uri": "https://localhost:8080/"
        },
        "id": "vuI9xxLEfXOc",
        "outputId": "634ab15c-4617-424d-dd85-a1a44d883d91"
      },
      "execution_count": 53,
      "outputs": [
        {
          "output_type": "stream",
          "name": "stderr",
          "text": [
            "[nltk_data] Downloading package punkt to /root/nltk_data...\n",
            "[nltk_data]   Package punkt is already up-to-date!\n",
            "[nltk_data] Downloading package wordnet to /root/nltk_data...\n",
            "[nltk_data]   Package wordnet is already up-to-date!\n",
            "[nltk_data] Downloading package stopwords to /root/nltk_data...\n",
            "[nltk_data]   Package stopwords is already up-to-date!\n"
          ]
        }
      ]
    },
    {
      "cell_type": "code",
      "source": [
        "word_tokens[:2]"
      ],
      "metadata": {
        "colab": {
          "base_uri": "https://localhost:8080/"
        },
        "id": "xcOJPnWWjLbl",
        "outputId": "24ffd43d-0d5b-4c78-eab6-a72141008895"
      },
      "execution_count": 54,
      "outputs": [
        {
          "output_type": "execute_result",
          "data": {
            "text/plain": [
              "['data', 'science']"
            ]
          },
          "metadata": {},
          "execution_count": 54
        }
      ]
    },
    {
      "cell_type": "markdown",
      "source": [
        "**text preprocessing**"
      ],
      "metadata": {
        "id": "x_Dn3ZESj74R"
      }
    },
    {
      "cell_type": "code",
      "source": [
        "lemmer = nltk.stem.WordNetLemmatizer()\n",
        "#Wordnet is a sementically-oriented dictionary of English included in NLTK\n",
        "def LemTokens(tokens):\n",
        "  return[lemmer.lemmatize(tokens) for token in tokens]\n",
        "remove_punct_dict= dict((ord(punct),None)for punct in string.punctuation)\n",
        "def LemNormalize(text):\n",
        "  return LemTokens(nltk.word_tokenize(text.lower().translate(remove_punct_dict)))"
      ],
      "metadata": {
        "id": "z24HueSAjLAO"
      },
      "execution_count": 55,
      "outputs": []
    },
    {
      "cell_type": "markdown",
      "source": [
        "**Defining the greeting function**"
      ],
      "metadata": {
        "id": "qpnUo8yKlnGl"
      }
    },
    {
      "cell_type": "code",
      "source": [
        "GREET_INPUTS = (\"hello\",\"hi\",\"greeting\",\"sup\",\"what's up\",\"hey\",\"aoa\")\n",
        "GREET_RESPONSES= [\"hi\",\"hey\",\"*nods*\",\"hi there\",\"hello\",\"I am glad! you are talking to me\",\"aoa\" ]\n",
        "def greet(sentence):\n",
        "\n",
        "  for word in sentence.split():\n",
        "    if word.lower() in GREET_INPUTS:\n",
        "      return random.choice(GREET_RESPONSES)"
      ],
      "metadata": {
        "id": "ymV_ZvWsjKp2"
      },
      "execution_count": 56,
      "outputs": []
    },
    {
      "cell_type": "markdown",
      "source": [
        "**RESPONSE GENERATION**"
      ],
      "metadata": {
        "id": "0aLphZKdnk5o"
      }
    },
    {
      "cell_type": "code",
      "source": [
        "from sklearn.feature_extraction.text import TfidfVectorizer\n",
        "from sklearn.metrics.pairwise import cosine_similarity"
      ],
      "metadata": {
        "id": "sOmOgzO0n2Xg"
      },
      "execution_count": 57,
      "outputs": []
    },
    {
      "cell_type": "code",
      "source": [
        "def response(user_response):\n",
        "  robo1_response=''\n",
        "  TfidfVec = TfidfVectorizer(tokenizer=LemNormalize,stop_words='english')\n",
        "  tfidf = TfidfVec.fit_transform(sent_tokens)\n",
        "  vals = cosine_similarity(tfidf[-1],tfidf)\n",
        "  idx=vals.argsort()[0][-2]\n",
        "  flat = vals.flatten()\n",
        "  flat.sort()\n",
        "  req_tfidf = flat[-2]\n",
        "  if(req_tfidf==0):\n",
        "    robo1_response=robo1_response + \"I am sorry! I don't understand you\"\n",
        "    return robo1_response\n",
        "  else:\n",
        "    robo1_response = robo1_response + sent_tokens[idx]\n",
        "    return robo1_response\n",
        "\n"
      ],
      "metadata": {
        "id": "4Jew1uU9oWDX"
      },
      "execution_count": 58,
      "outputs": []
    },
    {
      "cell_type": "markdown",
      "source": [
        "Defining conversation start\\end protocols"
      ],
      "metadata": {
        "id": "WhPqyd5QrL_n"
      }
    },
    {
      "cell_type": "code",
      "source": [
        "flag=True\n",
        "print(\"BOT:My name is HAPPYLAG. Let's have a conversation! Also,if you want to exit any time, just type Bye\",\"Made by HARIS\")\n",
        "while(flag==True):\n",
        "  user_response = input()\n",
        "  user_response = user_response.lower()\n",
        "  if(user_response != 'bye'):\n",
        "    if(user_response=='thanks' or user_response=='thank you' ):\n",
        "      flag=False\n",
        "      print(\"BOT:You are welcome....\")\n",
        "    else:\n",
        "      if(greet(user_response)!=None):\n",
        "        print(\"BOT: \"+greet(user_response))\n",
        "      else:\n",
        "          sent_tokens.append(user_response)\n",
        "          word_tokens=word_tokens + nltk.word_tokenize(user_response)\n",
        "          final_words=list(set(word_tokens))\n",
        "          print(\"BOT: \",end=\"\" )\n",
        "          print(response(user_response))\n",
        "          sent_tokens.remove(user_response)\n",
        "  else:\n",
        "    flag=False\n",
        "    print(\"BOT: GoodBye! Take care <3\")\n",
        "\n",
        "\n"
      ],
      "metadata": {
        "colab": {
          "base_uri": "https://localhost:8080/"
        },
        "id": "kTwkOD9JrT2P",
        "outputId": "d8117963-c27f-48cf-d870-8db6ad37dd11"
      },
      "execution_count": 62,
      "outputs": [
        {
          "output_type": "stream",
          "name": "stdout",
          "text": [
            "BOT:My name is HAPPYLAG. Let's have a conversation! Also,if you want to exit any time, just type Bye Made by HARIS\n",
            "hi\n",
            "BOT: hi there\n",
            "thanks\n",
            "BOT:You are welcome....\n"
          ]
        }
      ]
    }
  ]
}